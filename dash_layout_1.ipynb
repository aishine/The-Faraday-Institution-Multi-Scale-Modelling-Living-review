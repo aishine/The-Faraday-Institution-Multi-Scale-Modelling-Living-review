{
 "cells": [
  {
   "cell_type": "markdown",
   "metadata": {},
   "source": [
    "# Dash application layout #\n",
    "\n",
    "Dash applications have a layout that comprise some text, from the html components, and a graph, from the core components.  Here is the summary from the [Dash User guide](https://dash.plot.ly/getting-started):\n",
    "\n",
    "> The layout of a Dash app describes what the app looks like. The layout is a hierarchical tree of components. The dash_html_components library provides classes for all of the HTML tags and the keyword arguments describe the HTML attributes like style, className, and id. The dash_core_components library generates higher-level components like controls and graphs.\n",
    ">> Ref: [dash core_components](https://dash.plot.ly/dash-core-components), [dash html components](https://dash.plot.ly/dash-html-components)\n",
    "\n",
    "To see an example on how this works, we are going to plot the sin(x) of an array created with numpy.  We will plot x vs. sin(x) with axis labels that reflect this."
   ]
  },
  {
   "cell_type": "code",
   "execution_count": 7,
   "metadata": {},
   "outputs": [
    {
     "name": "stdout",
     "output_type": "stream",
     "text": [
      "0.0 350.0\n"
     ]
    }
   ],
   "source": [
    "import dash\n",
    "import dash_core_components as dcc  # For the interactive components\n",
    "import dash_html_components as html # It will translate your text/code into html\n",
    "from jupyter_plotly_dash import JupyterDash\n",
    "\n",
    "import numpy as np\n",
    "\n",
    "x_values = np.arange(0.,360.,10.)  # Degrees: Numpy array from 0. to 360., in steps of 10. \n",
    "y_values = np.sin(x_values *np.pi/180.) # Sin(x in radians)\n",
    "\n",
    "print(x_values[0],x_values[-1]) # Print first and last values of the x_values"
   ]
  },
  {
   "cell_type": "markdown",
   "metadata": {},
   "source": [
    "We will plot x vs. sin(x) with axis labels that reflect this:"
   ]
  },
  {
   "cell_type": "code",
   "execution_count": 8,
   "metadata": {},
   "outputs": [],
   "source": [
    "x_title = 'x-axis'\n",
    "y_title = 'sin(x)'"
   ]
  },
  {
   "cell_type": "markdown",
   "metadata": {},
   "source": [
    "###  Dash application\n",
    "\n",
    "Define the application in a jupyter notebook:"
   ]
  },
  {
   "cell_type": "code",
   "execution_count": 9,
   "metadata": {},
   "outputs": [],
   "source": [
    "#dash_app = dash.Dash('my dash app') # In a python environment\n",
    "dash_app = JupyterDash('my dash app') # In a jupyter notebook environment"
   ]
  },
  {
   "cell_type": "markdown",
   "metadata": {},
   "source": [
    "Set the layout of the application:"
   ]
  },
  {
   "cell_type": "code",
   "execution_count": 10,
   "metadata": {},
   "outputs": [],
   "source": [
    "dash_app.layout = html.Div([html.H1('Hello World'), #Title of the app\n",
    "                            html.Div( # New 'paragraph'\n",
    "                                dcc.Input( #Box for interactive input\n",
    "                                    id='input-box', \n",
    "                                    type= 'text', # Type of data\n",
    "                                    placeholder='Enter a value here', # Default value\n",
    "                                )),\n",
    "                            dcc.Graph( # Layout for a plot\n",
    "                                id='example-graph',\n",
    "                                figure={\n",
    "                                    'data': [ # Data to be plotted\n",
    "                                        {'x': x_values, 'y': y_values,\n",
    "                                         'marker':{'color':'red','size':'10','symbol':'dot'},\n",
    "                                         'mode': 'markers+lines',\n",
    "                                         'name': 'Sin(x)', # Name to appear in legend \n",
    "                                         'type': 'scatter', # bar, contour, etc\n",
    "                                        }\n",
    "                                        ],\n",
    "                                    'layout':{ # Plot set up\n",
    "                                        'xaxis':{'title': x_title },\n",
    "                                        'yaxis':{'title': y_title },\n",
    "                                        'showlegend': True # To show a legend\n",
    "                                        }\n",
    "                                    }\n",
    "                            )\n",
    "                            ])"
   ]
  },
  {
   "cell_type": "markdown",
   "metadata": {},
   "source": [
    "Run the application"
   ]
  },
  {
   "cell_type": "code",
   "execution_count": 11,
   "metadata": {},
   "outputs": [
    {
     "data": {
      "text/html": [
       "<div>\n",
       "  <iframe src=\"/app/endpoints/52c3c2da7b414a64843402730432ef15/\" width=800 height=600 frameborder=\"0\"></iframe>\n",
       "  <hr/><a href=\"/app/endpoints/52c3c2da7b414a64843402730432ef15/\" target=\"_new\">Open in new window</a> for /app/endpoints/52c3c2da7b414a64843402730432ef15/\n",
       "</div>"
      ],
      "text/plain": [
       "<jupyter_plotly_dash.dash_wrapper.JupyterDash at 0x2a927a0ea58>"
      ]
     },
     "execution_count": 11,
     "metadata": {},
     "output_type": "execute_result"
    }
   ],
   "source": [
    "#dash_app.run_server(debug=True) # In a python environment\n",
    "dash_app # In a jupyter notebook environment"
   ]
  },
  {
   "cell_type": "markdown",
   "metadata": {},
   "source": [
    "**Excersise:** Using the information provided in the [dash user guide](https://dash.plot.ly/getting-started), under 'More about HTML', change the background to black and center the title."
   ]
  }
 ],
 "metadata": {
  "kernelspec": {
   "display_name": "Python 3",
   "language": "python",
   "name": "python3"
  },
  "language_info": {
   "codemirror_mode": {
    "name": "ipython",
    "version": 3
   },
   "file_extension": ".py",
   "mimetype": "text/x-python",
   "name": "python",
   "nbconvert_exporter": "python",
   "pygments_lexer": "ipython3",
   "version": "3.6.6"
  }
 },
 "nbformat": 4,
 "nbformat_minor": 2
}
